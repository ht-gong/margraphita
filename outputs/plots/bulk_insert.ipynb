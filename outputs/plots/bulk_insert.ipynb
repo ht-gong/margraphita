{
 "cells": [
  {
   "cell_type": "code",
   "execution_count": 2,
   "id": "a9933101",
   "metadata": {},
   "outputs": [],
   "source": [
    "import os\n",
    "import collections\n",
    "import seaborn\n",
    "import numpy as np\n",
    "import matplotlib.pyplot as plt\n",
    "import pandas as pd\n"
   ]
  },
  {
   "cell_type": "code",
   "execution_count": 3,
   "id": "3495f483",
   "metadata": {},
   "outputs": [],
   "source": [
    "csv_log = '/home/puneet/scratch/margraphita/outputs/d8e9705/kron_insert_sample.csv'\n"
   ]
  },
  {
   "cell_type": "code",
   "execution_count": null,
   "id": "699be636",
   "metadata": {},
   "outputs": [],
   "source": []
  }
 ],
 "metadata": {
  "kernelspec": {
   "display_name": "Python 3 (ipykernel)",
   "language": "python",
   "name": "python3"
  },
  "language_info": {
   "codemirror_mode": {
    "name": "ipython",
    "version": 3
   },
   "file_extension": ".py",
   "mimetype": "text/x-python",
   "name": "python",
   "nbconvert_exporter": "python",
   "pygments_lexer": "ipython3",
   "version": "3.8.10"
  }
 },
 "nbformat": 4,
 "nbformat_minor": 5
}

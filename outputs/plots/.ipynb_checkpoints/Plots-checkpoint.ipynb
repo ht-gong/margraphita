{
 "cells": [
  {
   "cell_type": "code",
   "execution_count": 27,
   "id": "d8d3570e",
   "metadata": {},
   "outputs": [],
   "source": [
    "import os\n",
    "import collections\n",
    "import seaborn\n",
    "import numpy as np\n",
    "import matplotlib.pyplot as plt\n",
    "import pandas as pd"
   ]
  },
  {
   "cell_type": "code",
   "execution_count": 28,
   "id": "fd8f5908",
   "metadata": {},
   "outputs": [],
   "source": [
    "adj_cit_bfs=(17,17.64705882,13.27446301,14,20.5,10.5,8.2,11.19469027,9.592503023,11.72120943,28.5,34.79158326,31.175,42.77309868,39.61538462,43.02521008,32.8,26.52941176,13.92601432,6.5,12,12.75,7.6,11.15044248,9.376058041,11.35704758,25,34.24073622,33.475,42.19044626,39.76923077,44.03361345,43.30493274,21.96347032,15.1146789,14.22364217,14.57142857,13.73125,12.38738739,16.21782178,47.0742342,41.625,246.1380321,288.875,300.67,334.5,337.0761183,326.5873016,15.72197309,9.019406393,7.431192661,7.086261981,12.71428571,7.4125,6.774774775,8.316831683,28.46148574,35.75,146.5907923,166.8125,186.25,269.5,196.9824134,169.4444444)\n",
    "ekey_cit_bfs = (102.6,21,19.16666667,170.1560438,206.1666667,201.3333333,169.5,274.0763158,315.9468504,307.6503856,269.5,296.1428571,315.5324675,367.3137711,311.2,15.54843373,18.5,5.423076923,8.038461538,32.8163597,34,10,8.003929273,8.537917738,7,7,4.765432099,5.12,10.40888889,5.493150685,26.01312167,8.780722892,15.5,6.076923077,6.807692308,36.05606717,8.3125,3.5,7.661100196,12.0218509,7.5,9,7.395061728,7.16,7.955555556,8.712328767,8.453012048,7.75,4.057692308,5.711538462,34.63684995,5.5,3,7.248526523,14.42159383,3,5.333333333,4.827160494,7.4,7.815555556,5.082191781,32.38383809)\n",
    "std_cit_bfs = (74.24946467,100.8888889,185.5218412,153.0714286,310.2741187,199.6,319.3,205.8666667,240.297619,207.2,267.7590361,242.1492537,308.4241403,289.4516129,212.6875,220.2,37.26959064,35.68736142,21.33333333,22.72727273,40.3836478,42.625,55.25925926,40.48741722,28.65,47.93258427,51.34042553,39.56756757,36.5,57.20661157,45.07211538,28.66666667,16.39590643,20.50554324,16.58333333,17.90909091,20.83018868,19.25,25.14814815,21.66490066,21.45,27.2247191,23.5106383,22.83783784,20,27.94214876,23.45192308,20)"
   ]
  },
  {
   "cell_type": "code",
   "execution_count": 29,
   "id": "a6622dfc",
   "metadata": {},
   "outputs": [],
   "source": [
    "#PAGERANK\n",
    "\n",
    "adj_cit_pr = pd.read_csv(\"/Users/Puneet89/scratch/margraphita/outputs/benchmarks/adj_rd_cit-Patents_pr.csv\")\n",
    "ekey_cit_pr = pd.read_csv(\"/Users/Puneet89/scratch/margraphita/outputs/benchmarks/ekey_rd_cit-Patents_pr.csv\")\n",
    "std_cit_pr = pd.read_csv(\"/Users/Puneet89/scratch/margraphita/outputs/benchmarks/std_rd_cit-Patents_pr.csv\")\n",
    "\n"
   ]
  },
  {
   "cell_type": "code",
   "execution_count": 30,
   "id": "04deeae8",
   "metadata": {},
   "outputs": [
    {
     "name": "stdout",
     "output_type": "stream",
     "text": [
      "[0.06670966666666667, 0.10476891999999999, 0.20817835999999998, 0.41862903999999995, 0.85071716, 1.7486554399999998, 3.60398752, 7.2082794, 15.207169519999999, 31.255220866666665, 196.0741889]\n"
     ]
    }
   ],
   "source": [
    "#adj_kron\n",
    "column_list = ['i0', 'i1', 'i2', 'i3', 'i4', 'i5', 'i6',\n",
    "       'i7', 'i8', 'i9']\n",
    "adj_rd_kron_times = []\n",
    "for scale in range(10,20):\n",
    "    filename = \"/Users/Puneet89/scratch/margraphita/outputs/benchmarks/adj_rd_s\"+ str(scale) + \"_e8_pr.csv\"\n",
    "    kron_time = pd.read_csv(filename)\n",
    "    times = kron_time[column_list].sum(axis=1)\n",
    "    adj_pr_time = np.mean(times.to_numpy())\n",
    "    adj_rd_kron_times.append(adj_pr_time*1e-6)\n",
    "adj_rd_kron_times.append(196.0741889)#CIT\n",
    "print(adj_rd_kron_times)"
   ]
  },
  {
   "cell_type": "code",
   "execution_count": 31,
   "id": "ef2747fe",
   "metadata": {},
   "outputs": [
    {
     "name": "stdout",
     "output_type": "stream",
     "text": [
      "[0.13758009523809522, 0.2443669333333333, 0.4954207333333333, 0.9938439333333333, 2.037317333333333, 4.2304678125, 8.356750266666666, 16.4588989, 34.578090399999994, 78.8429319, 330.0521647]\n"
     ]
    }
   ],
   "source": [
    "#ekey_kron\n",
    "column_list = ['i0', 'i1', 'i2', 'i3', 'i4', 'i5', 'i6',\n",
    "       'i7', 'i8', 'i9']\n",
    "ekey_rd_kron_times = []\n",
    "for scale in range(10,20):\n",
    "    filename = \"/Users/Puneet89/scratch/margraphita/outputs/benchmarks/ekey_rd_s\"+ str(scale) + \"_e8_pr.csv\"\n",
    "    kron_time = pd.read_csv(filename)\n",
    "    times = kron_time[column_list].sum(axis=1)\n",
    "    ekey_pr_time = np.mean(times.to_numpy())\n",
    "    ekey_rd_kron_times.append(ekey_pr_time*1e-6)\n",
    "ekey_rd_kron_times.append(330.0521647) #CIT\n",
    "print(ekey_rd_kron_times)"
   ]
  },
  {
   "cell_type": "code",
   "execution_count": 32,
   "id": "571857de",
   "metadata": {},
   "outputs": [
    {
     "name": "stdout",
     "output_type": "stream",
     "text": [
      "[0.0332096, 0.36067746666666667, 0.7398815999999999, 1.5025585333333333, 3.0012164666666665, 6.0026820999999995, 13.202162066666666, 27.758937687499998, 57.40186353333333, 166.42345066666664, 446.3954812]\n"
     ]
    }
   ],
   "source": [
    "#std_kron\n",
    "column_list = ['i0', 'i1', 'i2', 'i3', 'i4', 'i5', 'i6',\n",
    "       'i7', 'i8', 'i9']\n",
    "std_rd_kron_times = []\n",
    "for scale in range(10,20):\n",
    "    filename = \"/Users/Puneet89/scratch/margraphita/outputs/benchmarks/std_rd_s\"+ str(scale) + \"_e8_pr.csv\"\n",
    "    kron_time = pd.read_csv(filename)\n",
    "    times = kron_time[column_list].sum(axis=1)\n",
    "    std_pr_time = np.mean(times.to_numpy())\n",
    "    std_rd_kron_times.append(std_pr_time*1e-6)\n",
    "std_rd_kron_times.append(446.3954812) #CIT\n",
    "print(std_rd_kron_times)"
   ]
  },
  {
   "cell_type": "code",
   "execution_count": 33,
   "id": "6b91bce0",
   "metadata": {},
   "outputs": [
    {
     "name": "stdout",
     "output_type": "stream",
     "text": [
      "[0.06670966666666667, 0.10476891999999999, 0.20817835999999998, 0.41862903999999995, 0.85071716, 1.7486554399999998, 3.60398752, 7.2082794, 15.207169519999999, 31.255220866666665, 196.0741889]\n",
      "[0.13758009523809522, 0.2443669333333333, 0.4954207333333333, 0.9938439333333333, 2.037317333333333, 4.2304678125, 8.356750266666666, 16.4588989, 34.578090399999994, 78.8429319, 330.0521647]\n",
      "[0.0332096, 0.36067746666666667, 0.7398815999999999, 1.5025585333333333, 3.0012164666666665, 6.0026820999999995, 13.202162066666666, 27.758937687499998, 57.40186353333333, 166.42345066666664, 446.3954812]\n"
     ]
    }
   ],
   "source": [
    "print(adj_rd_kron_times)\n",
    "print(ekey_rd_kron_times)\n",
    "print(std_rd_kron_times)"
   ]
  },
  {
   "cell_type": "code",
   "execution_count": 34,
   "id": "fa8112f2",
   "metadata": {},
   "outputs": [
    {
     "name": "stdout",
     "output_type": "stream",
     "text": [
      "18.708\n",
      "[0.11099999999999999, 0.10181818181818182, 0.10272727272727274, 0.11400000000000002, 0.12400000000000003, 0.189, 0.28700000000000003, 0.458, 0.8389999999999999, 1.7149999999999999, 18.708]\n"
     ]
    }
   ],
   "source": [
    "#GraphChi\n",
    "column_list = ['real']\n",
    "graphchi_kron_times = []\n",
    "for scale in range(10,20):\n",
    "    filename = \"/Users/Puneet89/scratch/margraphita/outputs/chi_stats/s\" +str(scale) +\"_e8-grapchi-pr.csv\"\n",
    "    kron_time = pd.read_csv(filename)\n",
    "    times = kron_time['real']\n",
    "    std_pr_time = np.mean(times.to_numpy())\n",
    "    graphchi_kron_times.append(std_pr_time)\n",
    "    \n",
    "#now add cit\n",
    "filename = \"/Users/Puneet89/scratch/margraphita/outputs/chi_stats/cit-Patents-grapchi-pr.csv\"\n",
    "kron_time = pd.read_csv(filename)\n",
    "times = kron_time['real']\n",
    "std_pr_time = np.mean(times.to_numpy())\n",
    "print(std_pr_time)\n",
    "graphchi_kron_times.append(std_pr_time)\n",
    "\n",
    "print(graphchi_kron_times)"
   ]
  },
  {
   "cell_type": "code",
   "execution_count": 35,
   "id": "db109fff",
   "metadata": {},
   "outputs": [
    {
     "data": {
      "image/png": "[encoded data removed]",
      "text/plain": [
       "<Figure size 432x288 with 1 Axes>"
      ]
     },
     "metadata": {
      "needs_background": "light"
     },
     "output_type": "display_data"
    }
   ],
   "source": [
    "x = []\n",
    "for i in range(10,20):\n",
    "    x.append(\"s\"+str(i))\n",
    "x.append(\"CIT\")\n",
    "\n",
    "adj_pr_line, = plt.plot(x, adj_rd_kron_times,marker=\".\", markersize=10)\n",
    "adj_pr_line.set_label(\"AdjList\")\n",
    "\n",
    "ekey_pr_line, = plt.plot(x,ekey_rd_kron_times,marker=\"+\", markersize=10)\n",
    "ekey_pr_line.set_label(\"EdgeKey\")\n",
    "\n",
    "std_pr_line, = plt.plot(x,std_rd_kron_times,marker=\"x\", markersize=10)\n",
    "std_pr_line.set_label(\"Std\")\n",
    "\n",
    "graphchi_line, = plt.plot(x,graphchi_kron_times,marker=\"|\", markersize=10)\n",
    "graphchi_line.set_label(\"GraphChi\")\n",
    "\n",
    "plt.xlabel('Datasets', fontsize=14)\n",
    "plt.ylabel('Time (secs)', fontsize=14)\n",
    "plt.legend()\n",
    "plt.savefig('/Users/Puneet89/Documents/rpe_doc/fig/pr.pdf', bbox_inches='tight')"
   ]
  },
  {
   "cell_type": "markdown",
   "id": "c86fb919",
   "metadata": {},
   "source": [
    "# Now plotting BFS\n",
    "We show three plots:\n",
    "1. average time vs dataset size\n",
    "3. normalized time per node visited vs number of nodes\n"
   ]
  },
  {
   "cell_type": "code",
   "execution_count": 36,
   "id": "0b588fe3",
   "metadata": {},
   "outputs": [],
   "source": [
    "#BFS ON CIT\n",
    "\n",
    "adj_cit_bfs = pd.read_csv(\"/Users/Puneet89/scratch/margraphita/outputs/benchmarks/adj_rd_cit-Patents_bfs.csv\")\n",
    "ekey_cit_bfs = pd.read_csv(\"/Users/Puneet89/scratch/margraphita/outputs/benchmarks/ekey_rd_cit-Patents_bfs.csv\")\n",
    "std_cit_bfs = pd.read_csv(\"/Users/Puneet89/scratch/margraphita/outputs/benchmarks/std_rd_cit-Patents_bfs.csv\")\n"
   ]
  },
  {
   "cell_type": "code",
   "execution_count": 37,
   "id": "776f9c27",
   "metadata": {},
   "outputs": [
    {
     "name": "stdout",
     "output_type": "stream",
     "text": [
      "[0.0481125625, 0.0976376875, 0.2021934375, 0.41968643749999995, 0.8845131875, 1.8435984374999999, 3.8178244374999997, 8.0121994375]\n",
      "[6.007921609874894e-07, 6.081758621655898e-07, 6.304495327478525e-07, 6.530147212609684e-07, 6.890472583122131e-07, 7.171658105736984e-07, 7.428234021264435e-07, 7.788806260158392e-07]\n"
     ]
    }
   ],
   "source": [
    "#adj_kron\n",
    "adj_average_bfs_times_arr = []\n",
    "adj_normalized_time = []\n",
    "\n",
    "column_names = [\"#db_name\", \"benchmark\", \"starting_node_id\", \"num_visited\", \"sum_out_deg\", \"time_taken_usecs\"\n",
    "]\n",
    "for scale in range(10,18):\n",
    "    norm_time = []\n",
    "    filename = \"/Users/Puneet89/scratch/margraphita/outputs/adj_rd_s\"+ str(scale) + \"_e8_bfs.csv\"\n",
    "    kron_time = pd.read_csv(filename,names=column_names,skiprows =1)\n",
    "    \n",
    "    #average_time\n",
    "    time_array = kron_time['time_taken_usecs'].to_numpy()\n",
    "    visited_array = kron_time['num_visited'].to_numpy()\n",
    "    avg_time = np.mean(time_array)\n",
    "    \n",
    "    adj_normalized_time.append(np.mean(np.divide(time_array , visited_array))*1e-6)\n",
    "    adj_average_bfs_times_arr.append(avg_time*1e-6)\n",
    "    \n",
    "\n",
    "\n",
    "print(adj_average_bfs_times_arr)\n",
    "print(adj_normalized_time)    "
   ]
  },
  {
   "cell_type": "code",
   "execution_count": 38,
   "id": "79d86b52",
   "metadata": {},
   "outputs": [
    {
     "name": "stdout",
     "output_type": "stream",
     "text": [
      "/Users/Puneet89/scratch/margraphita/outputs/ekey_rd_s10_e8_bfs.csv\n",
      "/Users/Puneet89/scratch/margraphita/outputs/ekey_rd_s11_e8_bfs.csv\n",
      "/Users/Puneet89/scratch/margraphita/outputs/ekey_rd_s12_e8_bfs.csv\n",
      "/Users/Puneet89/scratch/margraphita/outputs/ekey_rd_s13_e8_bfs.csv\n",
      "/Users/Puneet89/scratch/margraphita/outputs/ekey_rd_s14_e8_bfs.csv\n",
      "/Users/Puneet89/scratch/margraphita/outputs/ekey_rd_s15_e8_bfs.csv\n",
      "/Users/Puneet89/scratch/margraphita/outputs/ekey_rd_s16_e8_bfs.csv\n",
      "/Users/Puneet89/scratch/margraphita/outputs/ekey_rd_s17_e8_bfs.csv\n",
      "[0.105252125, 0.214745875, 0.4484279375, 0.958397875, 1.9033205, 4.052517, 8.473710624999999, 18.154544062499998]\n",
      "[1.3142961201913496e-06, 1.3376991560971801e-06, 1.3982163413945127e-06, 1.4912273686743585e-06, 1.4827121284189952e-06, 1.576443126421842e-06, 1.648705928085927e-06, 1.764836791394825e-06]\n"
     ]
    }
   ],
   "source": [
    "#Ekey BFS <-- WRONG NUMBERS CLEARLY\n",
    "ekey_average_bfs_times_arr = []\n",
    "ekey_normalized_time = []\n",
    "column_names = [\"#db_name\", \"benchmark\", \"starting_node_id\", \"num_visited\", \"sum_out_deg\", \"time_taken_usecs\"\n",
    "]\n",
    "\n",
    "for scale in range(10,18):\n",
    "    norm_time = []\n",
    "    filename = \"/Users/Puneet89/scratch/margraphita/outputs/ekey_rd_s\"+ str(scale) + \"_e8_bfs.csv\"\n",
    "    print(filename)\n",
    "    kron_time = pd.read_csv(filename, names=column_names,skiprows=1)\n",
    "    #avg time\n",
    "    time_array = kron_time['time_taken_usecs'].to_numpy()\n",
    "    visited_array = kron_time['num_visited'].to_numpy()\n",
    "    avg_time = np.mean(time_array)\n",
    "    ekey_average_bfs_times_arr.append(avg_time*1e-6)\n",
    "    ekey_normalized_time.append(np.mean(np.divide(time_array , visited_array))*1e-6)\n",
    "    \n",
    "print(ekey_average_bfs_times_arr)\n",
    "print(ekey_normalized_time)"
   ]
  },
  {
   "cell_type": "code",
   "execution_count": 39,
   "id": "897669b8",
   "metadata": {},
   "outputs": [
    {
     "name": "stdout",
     "output_type": "stream",
     "text": [
      "/Users/Puneet89/scratch/margraphita/outputs/std_rd_s10_e8_bfs.csv\n",
      "[79290 79290 79290 79290 79290 79290 79290 79290 79290 79300 79290 79290\n",
      " 79290 79290 79310 79290]\n",
      "/Users/Puneet89/scratch/margraphita/outputs/std_rd_s11_e8_bfs.csv\n",
      "[158030 158030 158030 158030 158030 158030 158050 158040 158030 158030\n",
      " 158030 158030 158030 158030 158030 158040]\n",
      "/Users/Puneet89/scratch/margraphita/outputs/std_rd_s12_e8_bfs.csv\n",
      "[317290 317290 317290 317290 317310 317300 317290 317290 317290 317290\n",
      " 317290 317300 317290 317300 317290 317290]\n",
      "/Users/Puneet89/scratch/margraphita/outputs/std_rd_s13_e8_bfs.csv\n",
      "[641780 641780 641780 641790 641780 641780 641780 641780 641780 641780\n",
      " 641780 641780 641780 641780 641780 641780]\n",
      "/Users/Puneet89/scratch/margraphita/outputs/std_rd_s14_e8_bfs.csv\n",
      "[1273030 1273030 1273030 1273030 1273030 1273040 1273030 1273030 1273030\n",
      " 1273030 1273030 1273040 1273030 1273030 1273030 1273030]\n",
      "/Users/Puneet89/scratch/margraphita/outputs/std_rd_s15_e8_bfs.csv\n",
      "[2535540 2535550 2535540 2535540 2535540 2535540 2535540 2535540 2535550\n",
      " 2535550 2535540 2535540 2535540 2535570 2535540 2535540]\n",
      "/Users/Puneet89/scratch/margraphita/outputs/std_rd_s16_e8_bfs.csv\n",
      "[35316 35316 35316 35316 35316 35316 35317 35316 35317 35316 35318 35316]\n",
      "/Users/Puneet89/scratch/margraphita/outputs/std_rd_s17_e8_bfs.csv\n",
      "[67546 67546 67546 67546 67547]\n",
      "[0.11673025, 0.23680081249999999, 0.4717555625, 18.942643625, 71.8589624375, 348.094674125, 519.12466675, 847.5765835999999]\n"
     ]
    }
   ],
   "source": [
    "#STD BFS \n",
    "std_average_bfs_times_arr = []\n",
    "std_normalized_time = []\n",
    "column_names = [\"#db_name\", \"benchmark\", \"starting_node_id\", \"num_visited\", \"sum_out_deg\", \"time_taken_usecs\"\n",
    "]\n",
    "\n",
    "for scale in range(10,18):\n",
    "    norm_time = []\n",
    "    filename = \"/Users/Puneet89/scratch/margraphita/outputs/std_rd_s\"+ str(scale) + \"_e8_bfs.csv\"\n",
    "    print(filename)\n",
    "    kron_time = pd.read_csv(filename, names=column_names,skiprows=1)\n",
    "    #avg time\n",
    "    time_array = kron_time['time_taken_usecs'].to_numpy()\n",
    "    visited_array = kron_time['num_visited'].to_numpy()\n",
    "    print(visited_array)\n",
    "    avg_time = np.mean(time_array)\n",
    "    std_average_bfs_times_arr.append(avg_time*1e-6)\n",
    "    std_normalized_time.append(np.mean(np.divide(time_array , visited_array))*1e-6)\n",
    "print(std_average_bfs_times_arr)\n",
    "    "
   ]
  },
  {
   "cell_type": "code",
   "execution_count": 40,
   "id": "e94dc488",
   "metadata": {},
   "outputs": [
    {
     "data": {
      "image/png": "[encoded data removed]",
      "text/plain": [
       "<Figure size 432x288 with 2 Axes>"
      ]
     },
     "metadata": {
      "needs_background": "light"
     },
     "output_type": "display_data"
    }
   ],
   "source": [
    "x = []\n",
    "for i in range(10,18):\n",
    "    x.append(\"s\"+str(i))\n",
    "\n",
    "fig,ax = plt.subplots()\n",
    "ax.plot(x, adj_normalized_time, label='AdjList', marker=\".\", markersize=10)\n",
    "ax.plot(x, ekey_normalized_time, label='EdgeKey', marker=\"+\", markersize=10)\n",
    "#ax.plot(x, std_normalized_time, label='Standard', marker=\".\", markersize=10)\n",
    "ax2 = ax.twinx()\n",
    "ax2.plot(x,std_normalized_time, label='Standard', marker=\"x\", markersize=10, color='g')\n",
    "ax.set_ylabel('Normalized Time(s)',fontsize=14)\n",
    "ax2.set_ylabel('Normalized Time(s) for Std', color='g',fontsize=14)\n",
    "\n",
    "ax.set_xlabel('Datasets',fontsize=14)\n",
    "ax.legend(loc='upper center')\n",
    "ax2.legend(loc='upper left')\n",
    "plt.savefig('/Users/Puneet89/Documents/rpe_doc/fig/bfs_norm_time.pdf', bbox_inches='tight')"
   ]
  },
  {
   "cell_type": "code",
   "execution_count": 41,
   "id": "fd010564",
   "metadata": {},
   "outputs": [
    {
     "data": {
      "image/png": "[encoded data removed]",
      "text/plain": [
       "<Figure size 432x288 with 2 Axes>"
      ]
     },
     "metadata": {
      "needs_background": "light"
     },
     "output_type": "display_data"
    }
   ],
   "source": [
    "x = []\n",
    "for i in range(10,18):\n",
    "    x.append(\"s\"+str(i))\n",
    "\n",
    "fig,ax = plt.subplots()\n",
    "ax.plot(x, adj_average_bfs_times_arr, label='AdjList', marker=\".\", markersize=10)\n",
    "ax.plot(x, ekey_average_bfs_times_arr, label='EdgeKey', marker=\"+\", markersize=10)\n",
    "\n",
    "ax2 = ax.twinx()\n",
    "ax2.plot(x,std_average_bfs_times_arr, label='Standard', marker=\"x\", markersize=10, color='g')\n",
    "ax.set_ylabel('Time (secs)',fontsize=14)\n",
    "ax2.set_ylabel('Time(s) for Std', color='g',fontsize=14)\n",
    "\n",
    "ax.set_xlabel('Datasets',fontsize=14)\n",
    "ax.legend(loc='upper center')\n",
    "ax2.legend(loc='upper left')\n",
    "plt.savefig('/Users/Puneet89/Documents/rpe_doc/fig/bfs_avg_time.pdf', bbox_inches='tight')"
   ]
  },
  {
   "cell_type": "markdown",
   "id": "52019132",
   "metadata": {},
   "source": [
    "   # Triangle Counting"
   ]
  },
  {
   "cell_type": "code",
   "execution_count": 42,
   "id": "44d8767b",
   "metadata": {},
   "outputs": [
    {
     "name": "stdout",
     "output_type": "stream",
     "text": [
      "/Users/Puneet89/scratch/margraphita/outputs/benchmarks/adj_rd_s10_e8_tc.csv\n",
      "/Users/Puneet89/scratch/margraphita/outputs/benchmarks/adj_rd_s11_e8_tc.csv\n",
      "/Users/Puneet89/scratch/margraphita/outputs/benchmarks/adj_rd_s12_e8_tc.csv\n",
      "/Users/Puneet89/scratch/margraphita/outputs/benchmarks/adj_rd_s13_e8_tc.csv\n",
      "/Users/Puneet89/scratch/margraphita/outputs/benchmarks/adj_rd_s14_e8_tc.csv\n",
      "/Users/Puneet89/scratch/margraphita/outputs/benchmarks/adj_rd_s15_e8_tc.csv\n",
      "[0.7007497172131147, 0.3796591212121212, 0.6868941937499999, 0.81740883125, 1.0660911687499999, 18.19753264375, 549.260595]\n",
      "[0, 0, 313608, 808284, 2087315, 5474021, 0]\n",
      "[0.1966791680327869, 0.5006384181818181, 1.3628045625, 3.6114019624999996, 9.198143974999999, 24.914707481249998, 22.201058]\n",
      "[61656, 131009, 277423, 591943, 1241081, 2641192, 7515023]\n"
     ]
    }
   ],
   "source": [
    "#Adj Kron\n",
    "adj_average_cycle_times_arr = []\n",
    "adj_cycle_counts = []\n",
    "adj_average_trust_times_arr = []\n",
    "adj_trust_counts = []\n",
    "\n",
    "column_list = ['cycle_count', 'cycle_time_usec', 'trust_count', 'trust_time_usecs']\n",
    "for scale in range(10,16):\n",
    "    filename = \"/Users/Puneet89/scratch/margraphita/outputs/benchmarks/adj_rd_s\"+ str(scale) + \"_e8_tc.csv\"\n",
    "    print(filename)\n",
    "    kron_time = pd.read_csv(filename, names=column_list,skiprows=1)\n",
    "    #avg time\n",
    "    trust_times = kron_time['trust_time_usecs'].to_numpy()\n",
    "    cycle_times = kron_time['cycle_time_usec'].to_numpy()\n",
    "    avg_trust_time = np.mean(trust_times)\n",
    "    avg_cycle_time = np.mean(cycle_times)\n",
    "    adj_average_cycle_times_arr.append(avg_trust_time*1e-6)\n",
    "    adj_average_trust_times_arr.append(avg_cycle_time*1e-6)\n",
    "    adj_cycle_counts.append(kron_time['cycle_count'][0])\n",
    "    adj_trust_counts.append(kron_time['trust_count'][0])\n",
    "\n",
    "filename = \"/Users/Puneet89/scratch/margraphita/outputs/adj_rd_cit-Patents_tc.csv\"\n",
    "kron_time = pd.read_csv(filename,names=column_list,skiprows=1)\n",
    "trust_times = kron_time['trust_time_usecs'].to_numpy()\n",
    "cycle_times = kron_time['cycle_time_usec'].to_numpy()\n",
    "avg_trust_time = np.mean(trust_times)\n",
    "avg_cycle_time = np.mean(cycle_times)\n",
    "adj_average_cycle_times_arr.append(avg_trust_time*1e-6)\n",
    "adj_average_trust_times_arr.append(avg_cycle_time*1e-6)\n",
    "adj_cycle_counts.append(kron_time['cycle_count'][0])\n",
    "adj_trust_counts.append(kron_time['trust_count'][0])\n",
    "\n",
    "print(adj_average_cycle_times_arr)\n",
    "print (adj_cycle_counts)\n",
    "print(adj_average_trust_times_arr)\n",
    "print(adj_trust_counts)"
   ]
  },
  {
   "cell_type": "code",
   "execution_count": 43,
   "id": "5e84c152",
   "metadata": {},
   "outputs": [
    {
     "name": "stdout",
     "output_type": "stream",
     "text": [
      "/Users/Puneet89/scratch/margraphita/outputs/benchmarks/ekey_rd_s10_e8_tc.csv\n",
      "/Users/Puneet89/scratch/margraphita/outputs/benchmarks/ekey_rd_s11_e8_tc.csv\n",
      "/Users/Puneet89/scratch/margraphita/outputs/benchmarks/ekey_rd_s12_e8_tc.csv\n",
      "/Users/Puneet89/scratch/margraphita/outputs/benchmarks/ekey_rd_s13_e8_tc.csv\n",
      "/Users/Puneet89/scratch/margraphita/outputs/benchmarks/ekey_rd_s14_e8_tc.csv\n",
      "/Users/Puneet89/scratch/margraphita/outputs/benchmarks/ekey_rd_s15_e8_tc.csv\n",
      "[0.4708481052631579, 1.16828784, 3.0343568, 7.931873639999999, 21.086442679999998, 51.17710408, 1063.782346]\n",
      "[48157, 117440, 313608, 808284, 2087315, 5474021, 0]\n",
      "[0.4461535263157895, 1.32202856, 3.4686437999999997, 9.197570039999999, 24.92611752, 61.70089136, 283.34863]\n",
      "[61656, 130979, 277423, 591943, 1241081, 2641192, 7515023]\n"
     ]
    }
   ],
   "source": [
    "#Ekey Kron\n",
    "ekey_average_cycle_times_arr = []\n",
    "ekey_cycle_counts = []\n",
    "ekey_average_trust_times_arr = []\n",
    "ekey_trust_counts = []\n",
    "column_list = ['cycle_count', 'cycle_time_usec', 'trust_count', 'trust_time_usecs']\n",
    "for scale in range(10,16):\n",
    "    filename = \"/Users/Puneet89/scratch/margraphita/outputs/benchmarks/ekey_rd_s\"+ str(scale) + \"_e8_tc.csv\"\n",
    "    print(filename)\n",
    "    kron_time = pd.read_csv(filename, names=column_list,skiprows=1)\n",
    "    #avg time\n",
    "    trust_times = kron_time['trust_time_usecs'].to_numpy()\n",
    "    cycle_times = kron_time['cycle_time_usec'].to_numpy()\n",
    "    avg_trust_time = np.mean(trust_times)\n",
    "    avg_cycle_time = np.mean(cycle_times)\n",
    "    ekey_average_cycle_times_arr.append(avg_trust_time*1e-6)\n",
    "    ekey_average_trust_times_arr.append(avg_cycle_time*1e-6)\n",
    "    ekey_cycle_counts.append(kron_time['cycle_count'][0])\n",
    "    ekey_trust_counts.append(kron_time['trust_count'][0])\n",
    "\n",
    "filename = \"/Users/Puneet89/scratch/margraphita/outputs/ekey_rd_cit-Patents_tc.csv\"\n",
    "kron_time = pd.read_csv(filename,names=column_list,skiprows=1)\n",
    "trust_times = kron_time['trust_time_usecs'].to_numpy()\n",
    "cycle_times = kron_time['cycle_time_usec'].to_numpy()\n",
    "avg_trust_time = np.mean(trust_times)\n",
    "avg_cycle_time = np.mean(cycle_times)\n",
    "ekey_average_cycle_times_arr.append(avg_trust_time*1e-6)\n",
    "ekey_average_trust_times_arr.append(avg_cycle_time*1e-6)\n",
    "ekey_cycle_counts.append(kron_time['cycle_count'][0])\n",
    "ekey_trust_counts.append(kron_time['trust_count'][0])\n",
    "\n",
    "print(ekey_average_cycle_times_arr)\n",
    "print (ekey_cycle_counts)\n",
    "print(ekey_average_trust_times_arr)\n",
    "print(ekey_trust_counts)\n",
    "\n"
   ]
  },
  {
   "cell_type": "code",
   "execution_count": 45,
   "id": "af000169",
   "metadata": {},
   "outputs": [
    {
     "name": "stdout",
     "output_type": "stream",
     "text": [
      "/Users/Puneet89/scratch/margraphita/outputs/benchmarks/std_rd_s10_e8_tc.csv\n",
      "/Users/Puneet89/scratch/margraphita/outputs/benchmarks/std_rd_s11_e8_tc.csv\n",
      "/Users/Puneet89/scratch/margraphita/outputs/benchmarks/std_rd_s12_e8_tc.csv\n",
      "/Users/Puneet89/scratch/margraphita/outputs/benchmarks/std_rd_s13_e8_tc.csv\n",
      "/Users/Puneet89/scratch/margraphita/outputs/benchmarks/std_rd_s14_e8_tc.csv\n",
      "/Users/Puneet89/scratch/margraphita/outputs/benchmarks/std_rd_s15_e8_tc.csv\n",
      "[0.24292681249999998, 0.634582275, 1.637707875, 4.36703685106383, 11.51863224, 31.32978386363636, 1063782.346232]\n",
      "[0.39064435937499997, 1.7059156083333333, 5.0891789375, 259.5138075106383, 601.60518384, 2955.490309590909, 2833486.303434]\n",
      "[9389, 110872, 302142, 807290, 2028871, 5286377, 0]\n",
      "[58891, 123977, 268615, 590784, 1212529, 2544572, 7515023]\n"
     ]
    }
   ],
   "source": [
    "#Std Kron\n",
    "std_average_cycle_times_arr = []\n",
    "std_cycle_counts = []\n",
    "std_average_trust_times_arr = []\n",
    "std_trust_counts = []\n",
    "column_list = ['cycle_count', 'cycle_time_usec', 'trust_count', 'trust_time_usecs']\n",
    "for scale in range(10,16):\n",
    "    filename = \"/Users/Puneet89/scratch/margraphita/outputs/benchmarks/std_rd_s\"+ str(scale) + \"_e8_tc.csv\"\n",
    "    print(filename)\n",
    "    kron_time = pd.read_csv(filename, names=column_list,skiprows=1)\n",
    "    #avg time\n",
    "    trust_times = kron_time['trust_time_usecs'].to_numpy()\n",
    "    cycle_times = kron_time['cycle_time_usec'].to_numpy()\n",
    "    avg_trust_time = np.mean(trust_times)\n",
    "    avg_cycle_time = np.mean(cycle_times)\n",
    "    std_average_cycle_times_arr.append(avg_trust_time*1e-6)\n",
    "    std_average_trust_times_arr.append(avg_cycle_time*1e-6)\n",
    "    std_cycle_counts.append(kron_time['cycle_count'][0])\n",
    "    std_trust_counts.append(kron_time['trust_count'][0])\n",
    "    \n",
    "filename = \"/Users/Puneet89/scratch/margraphita/outputs/std_rd_cit-Patents_tc.csv\"\n",
    "kron_time = pd.read_csv(filename,names=column_list,skiprows=1)\n",
    "trust_times = kron_time['trust_time_usecs'].to_numpy()\n",
    "cycle_times = kron_time['cycle_time_usec'].to_numpy()\n",
    "avg_trust_time = np.mean(trust_times)\n",
    "avg_cycle_time = np.mean(cycle_times)\n",
    "std_average_cycle_times_arr.append(avg_trust_time*1e-6)\n",
    "std_average_trust_times_arr.append(avg_cycle_time*1e-6)\n",
    "std_cycle_counts.append(kron_time['cycle_count'][0])\n",
    "std_trust_counts.append(kron_time['trust_count'][0])\n",
    "print(std_average_cycle_times_arr)\n",
    "print(std_average_trust_times_arr)\n",
    "print(std_cycle_counts)\n",
    "print(std_trust_counts)"
   ]
  },
  {
   "cell_type": "code",
   "execution_count": 51,
   "id": "9c68ebc0",
   "metadata": {},
   "outputs": [],
   "source": [
    "#GraphChi\n",
    "column_list = ['real']\n",
    "graphchi_kron_times = []\n",
    "for scale in range(10,16):\n",
    "    filename = \"/Users/Puneet89/scratch/margraphita/outputs/chi_stats/s\" +str(scale) +\"_e8-graphchi-tc.csv\"\n",
    "    #print (filename)\n",
    "    kron_time = pd.read_csv(filename)\n",
    "    times = kron_time['real']\n",
    "    std_pr_time = np.mean(times.to_numpy())\n",
    "    #print(std_pr_time)\n",
    "    graphchi_kron_times.append(std_pr_time)\n",
    "    \n",
    "#now add cit\n",
    "filename = \"/Users/Puneet89/scratch/margraphita/outputs/chi_stats/cit-Patents-grapchi-pr.csv\"\n",
    "kron_time = pd.read_csv(filename)\n",
    "times = kron_time['real']\n",
    "cit_tc_time = np.mean(times.to_numpy())\n",
    "graphchi_kron_times.append(cit_tc_time)\n",
    "    \n",
    "\n",
    "graphchi_tc_to_plot = graphchi_kron_times[:6]\n",
    "graphchi_tc_to_plot.append(cit_tc_time)"
   ]
  },
  {
   "cell_type": "code",
   "execution_count": 63,
   "id": "20e37a8b",
   "metadata": {},
   "outputs": [
    {
     "name": "stdout",
     "output_type": "stream",
     "text": [
      "[0.7007497172131147, 0.3796591212121212, 0.6868941937499999, 0.81740883125, 1.0660911687499999, 18.19753264375, 549.260595]\n",
      "[0.4708481052631579, 1.16828784, 3.0343568, 7.931873639999999, 21.086442679999998, 51.17710408, 1063.782346]\n",
      "[0.24292681249999998, 0.634582275, 1.637707875, 4.36703685106383, 11.51863224, 31.32978386363636, 1063782.346232]\n",
      "[2.173, 2.163, 2.1790000000000003, 2.085, 2.093, 2.0900000000000003, 18.708]\n"
     ]
    },
    {
     "ename": "ValueError",
     "evalue": "x and y must have same first dimension, but have shapes (6,) and (1,)",
     "output_type": "error",
     "traceback": [
      "\u001b[0;31m---------------------------------------------------------------------------\u001b[0m",
      "\u001b[0;31mValueError\u001b[0m                                Traceback (most recent call last)",
      "\u001b[0;32m/var/folders/2k/prv9ywh52sn57l626bl42pz40000gp/T/ipykernel_7674/1510779188.py\u001b[0m in \u001b[0;36m<module>\u001b[0;34m\u001b[0m\n\u001b[1;32m     15\u001b[0m \u001b[0mfig\u001b[0m\u001b[0;34m,\u001b[0m\u001b[0max\u001b[0m \u001b[0;34m=\u001b[0m \u001b[0mplt\u001b[0m\u001b[0;34m.\u001b[0m\u001b[0msubplots\u001b[0m\u001b[0;34m(\u001b[0m\u001b[0mfigsize\u001b[0m\u001b[0;34m=\u001b[0m\u001b[0;34m(\u001b[0m\u001b[0;36m6.06\u001b[0m\u001b[0;34m,\u001b[0m \u001b[0;36m3.7\u001b[0m\u001b[0;34m)\u001b[0m\u001b[0;34m)\u001b[0m\u001b[0;34m\u001b[0m\u001b[0;34m\u001b[0m\u001b[0m\n\u001b[1;32m     16\u001b[0m \u001b[0max\u001b[0m\u001b[0;34m.\u001b[0m\u001b[0mplot\u001b[0m\u001b[0;34m(\u001b[0m\u001b[0mx_std\u001b[0m\u001b[0;34m,\u001b[0m \u001b[0madj_average_cycle_times_arr\u001b[0m\u001b[0;34m[\u001b[0m\u001b[0;34m:\u001b[0m\u001b[0;34m-\u001b[0m\u001b[0;36m1\u001b[0m\u001b[0;34m]\u001b[0m\u001b[0;34m,\u001b[0m \u001b[0mlabel\u001b[0m\u001b[0;34m=\u001b[0m\u001b[0;34m'AdjList'\u001b[0m\u001b[0;34m,\u001b[0m \u001b[0mmarker\u001b[0m\u001b[0;34m=\u001b[0m\u001b[0;34m\".\"\u001b[0m\u001b[0;34m,\u001b[0m \u001b[0mmarkersize\u001b[0m\u001b[0;34m=\u001b[0m\u001b[0;36m10\u001b[0m\u001b[0;34m)\u001b[0m\u001b[0;34m\u001b[0m\u001b[0;34m\u001b[0m\u001b[0m\n\u001b[0;32m---> 17\u001b[0;31m \u001b[0max\u001b[0m\u001b[0;34m.\u001b[0m\u001b[0mplot\u001b[0m\u001b[0;34m(\u001b[0m\u001b[0mx_std\u001b[0m\u001b[0;34m,\u001b[0m \u001b[0mekey_average_cycle_times_arr\u001b[0m\u001b[0;34m[\u001b[0m\u001b[0;34m-\u001b[0m\u001b[0;36m1\u001b[0m\u001b[0;34m]\u001b[0m\u001b[0;34m,\u001b[0m \u001b[0mlabel\u001b[0m\u001b[0;34m=\u001b[0m\u001b[0;34m'EdgeKey'\u001b[0m\u001b[0;34m,\u001b[0m \u001b[0mmarker\u001b[0m\u001b[0;34m=\u001b[0m\u001b[0;34m\"+\"\u001b[0m\u001b[0;34m,\u001b[0m \u001b[0mmarkersize\u001b[0m\u001b[0;34m=\u001b[0m\u001b[0;36m10\u001b[0m\u001b[0;34m)\u001b[0m\u001b[0;34m\u001b[0m\u001b[0;34m\u001b[0m\u001b[0m\n\u001b[0m\u001b[1;32m     18\u001b[0m \u001b[0max\u001b[0m\u001b[0;34m.\u001b[0m\u001b[0mplot\u001b[0m\u001b[0;34m(\u001b[0m\u001b[0mx\u001b[0m\u001b[0;34m,\u001b[0m \u001b[0mgraphchi_kron_times\u001b[0m\u001b[0;34m,\u001b[0m \u001b[0mlabel\u001b[0m\u001b[0;34m=\u001b[0m\u001b[0;34m'GraphChi'\u001b[0m\u001b[0;34m,\u001b[0m \u001b[0mmarker\u001b[0m\u001b[0;34m=\u001b[0m\u001b[0;34m\"|\"\u001b[0m\u001b[0;34m,\u001b[0m \u001b[0mmarkersize\u001b[0m\u001b[0;34m=\u001b[0m\u001b[0;36m10\u001b[0m\u001b[0;34m,\u001b[0m \u001b[0mcolor\u001b[0m\u001b[0;34m=\u001b[0m\u001b[0;34m'r'\u001b[0m\u001b[0;34m)\u001b[0m\u001b[0;34m\u001b[0m\u001b[0;34m\u001b[0m\u001b[0m\n\u001b[1;32m     19\u001b[0m \u001b[0max\u001b[0m\u001b[0;34m.\u001b[0m\u001b[0mplot\u001b[0m\u001b[0;34m(\u001b[0m\u001b[0mx_std\u001b[0m\u001b[0;34m,\u001b[0m\u001b[0mstd_average_cycle_times_arr\u001b[0m\u001b[0;34m[\u001b[0m\u001b[0;34m:\u001b[0m\u001b[0;34m-\u001b[0m\u001b[0;36m1\u001b[0m\u001b[0;34m]\u001b[0m\u001b[0;34m,\u001b[0m \u001b[0mlabel\u001b[0m\u001b[0;34m=\u001b[0m\u001b[0;34m'Standard'\u001b[0m\u001b[0;34m,\u001b[0m \u001b[0mmarker\u001b[0m\u001b[0;34m=\u001b[0m\u001b[0;34m\"x\"\u001b[0m\u001b[0;34m,\u001b[0m \u001b[0mmarkersize\u001b[0m\u001b[0;34m=\u001b[0m\u001b[0;36m10\u001b[0m\u001b[0;34m,\u001b[0m \u001b[0mcolor\u001b[0m\u001b[0;34m=\u001b[0m\u001b[0;34m'g'\u001b[0m\u001b[0;34m)\u001b[0m\u001b[0;34m\u001b[0m\u001b[0;34m\u001b[0m\u001b[0m\n",
      "\u001b[0;32m/usr/local/lib/python3.9/site-packages/matplotlib/axes/_axes.py\u001b[0m in \u001b[0;36mplot\u001b[0;34m(self, scalex, scaley, data, *args, **kwargs)\u001b[0m\n\u001b[1;32m   1603\u001b[0m         \"\"\"\n\u001b[1;32m   1604\u001b[0m         \u001b[0mkwargs\u001b[0m \u001b[0;34m=\u001b[0m \u001b[0mcbook\u001b[0m\u001b[0;34m.\u001b[0m\u001b[0mnormalize_kwargs\u001b[0m\u001b[0;34m(\u001b[0m\u001b[0mkwargs\u001b[0m\u001b[0;34m,\u001b[0m \u001b[0mmlines\u001b[0m\u001b[0;34m.\u001b[0m\u001b[0mLine2D\u001b[0m\u001b[0;34m)\u001b[0m\u001b[0;34m\u001b[0m\u001b[0;34m\u001b[0m\u001b[0m\n\u001b[0;32m-> 1605\u001b[0;31m         \u001b[0mlines\u001b[0m \u001b[0;34m=\u001b[0m \u001b[0;34m[\u001b[0m\u001b[0;34m*\u001b[0m\u001b[0mself\u001b[0m\u001b[0;34m.\u001b[0m\u001b[0m_get_lines\u001b[0m\u001b[0;34m(\u001b[0m\u001b[0;34m*\u001b[0m\u001b[0margs\u001b[0m\u001b[0;34m,\u001b[0m \u001b[0mdata\u001b[0m\u001b[0;34m=\u001b[0m\u001b[0mdata\u001b[0m\u001b[0;34m,\u001b[0m \u001b[0;34m**\u001b[0m\u001b[0mkwargs\u001b[0m\u001b[0;34m)\u001b[0m\u001b[0;34m]\u001b[0m\u001b[0;34m\u001b[0m\u001b[0;34m\u001b[0m\u001b[0m\n\u001b[0m\u001b[1;32m   1606\u001b[0m         \u001b[0;32mfor\u001b[0m \u001b[0mline\u001b[0m \u001b[0;32min\u001b[0m \u001b[0mlines\u001b[0m\u001b[0;34m:\u001b[0m\u001b[0;34m\u001b[0m\u001b[0;34m\u001b[0m\u001b[0m\n\u001b[1;32m   1607\u001b[0m             \u001b[0mself\u001b[0m\u001b[0;34m.\u001b[0m\u001b[0madd_line\u001b[0m\u001b[0;34m(\u001b[0m\u001b[0mline\u001b[0m\u001b[0;34m)\u001b[0m\u001b[0;34m\u001b[0m\u001b[0;34m\u001b[0m\u001b[0m\n",
      "\u001b[0;32m/usr/local/lib/python3.9/site-packages/matplotlib/axes/_base.py\u001b[0m in \u001b[0;36m__call__\u001b[0;34m(self, data, *args, **kwargs)\u001b[0m\n\u001b[1;32m    313\u001b[0m                 \u001b[0mthis\u001b[0m \u001b[0;34m+=\u001b[0m \u001b[0margs\u001b[0m\u001b[0;34m[\u001b[0m\u001b[0;36m0\u001b[0m\u001b[0;34m]\u001b[0m\u001b[0;34m,\u001b[0m\u001b[0;34m\u001b[0m\u001b[0;34m\u001b[0m\u001b[0m\n\u001b[1;32m    314\u001b[0m                 \u001b[0margs\u001b[0m \u001b[0;34m=\u001b[0m \u001b[0margs\u001b[0m\u001b[0;34m[\u001b[0m\u001b[0;36m1\u001b[0m\u001b[0;34m:\u001b[0m\u001b[0;34m]\u001b[0m\u001b[0;34m\u001b[0m\u001b[0;34m\u001b[0m\u001b[0m\n\u001b[0;32m--> 315\u001b[0;31m             \u001b[0;32myield\u001b[0m \u001b[0;32mfrom\u001b[0m \u001b[0mself\u001b[0m\u001b[0;34m.\u001b[0m\u001b[0m_plot_args\u001b[0m\u001b[0;34m(\u001b[0m\u001b[0mthis\u001b[0m\u001b[0;34m,\u001b[0m \u001b[0mkwargs\u001b[0m\u001b[0;34m)\u001b[0m\u001b[0;34m\u001b[0m\u001b[0;34m\u001b[0m\u001b[0m\n\u001b[0m\u001b[1;32m    316\u001b[0m \u001b[0;34m\u001b[0m\u001b[0m\n\u001b[1;32m    317\u001b[0m     \u001b[0;32mdef\u001b[0m \u001b[0mget_next_color\u001b[0m\u001b[0;34m(\u001b[0m\u001b[0mself\u001b[0m\u001b[0;34m)\u001b[0m\u001b[0;34m:\u001b[0m\u001b[0;34m\u001b[0m\u001b[0;34m\u001b[0m\u001b[0m\n",
      "\u001b[0;32m/usr/local/lib/python3.9/site-packages/matplotlib/axes/_base.py\u001b[0m in \u001b[0;36m_plot_args\u001b[0;34m(self, tup, kwargs, return_kwargs)\u001b[0m\n\u001b[1;32m    499\u001b[0m \u001b[0;34m\u001b[0m\u001b[0m\n\u001b[1;32m    500\u001b[0m         \u001b[0;32mif\u001b[0m \u001b[0mx\u001b[0m\u001b[0;34m.\u001b[0m\u001b[0mshape\u001b[0m\u001b[0;34m[\u001b[0m\u001b[0;36m0\u001b[0m\u001b[0;34m]\u001b[0m \u001b[0;34m!=\u001b[0m \u001b[0my\u001b[0m\u001b[0;34m.\u001b[0m\u001b[0mshape\u001b[0m\u001b[0;34m[\u001b[0m\u001b[0;36m0\u001b[0m\u001b[0;34m]\u001b[0m\u001b[0;34m:\u001b[0m\u001b[0;34m\u001b[0m\u001b[0;34m\u001b[0m\u001b[0m\n\u001b[0;32m--> 501\u001b[0;31m             raise ValueError(f\"x and y must have same first dimension, but \"\n\u001b[0m\u001b[1;32m    502\u001b[0m                              f\"have shapes {x.shape} and {y.shape}\")\n\u001b[1;32m    503\u001b[0m         \u001b[0;32mif\u001b[0m \u001b[0mx\u001b[0m\u001b[0;34m.\u001b[0m\u001b[0mndim\u001b[0m \u001b[0;34m>\u001b[0m \u001b[0;36m2\u001b[0m \u001b[0;32mor\u001b[0m \u001b[0my\u001b[0m\u001b[0;34m.\u001b[0m\u001b[0mndim\u001b[0m \u001b[0;34m>\u001b[0m \u001b[0;36m2\u001b[0m\u001b[0;34m:\u001b[0m\u001b[0;34m\u001b[0m\u001b[0;34m\u001b[0m\u001b[0m\n",
      "\u001b[0;31mValueError\u001b[0m: x and y must have same first dimension, but have shapes (6,) and (1,)"
     ]
    },
    {
     "data": {
      "image/png": "[encoded data removed]",
      "text/plain": [
       "<Figure size 436.32x266.4 with 1 Axes>"
      ]
     },
     "metadata": {
      "needs_background": "light"
     },
     "output_type": "display_data"
    }
   ],
   "source": [
    "#Cycle Triangle Counting Time\n",
    "\n",
    "x = []\n",
    "x_std = ['s10' , 's11' , 's12' , 's13' , 's14', 's15']\n",
    "for i in range(10,16):\n",
    "    x.append(\"s\"+str(i))\n",
    "x.append('CIT')\n",
    "\n",
    "\n",
    "print(adj_average_cycle_times_arr)\n",
    "print(ekey_average_cycle_times_arr)\n",
    "print(std_average_cycle_times_arr)\n",
    "print(graphchi_kron_times)\n",
    "\n",
    "fig,ax = plt.subplots(figsize=(6.06, 3.7))\n",
    "ax.plot(x_std, adj_average_cycle_times_arr[:-1], label='AdjList', marker=\".\", markersize=10)\n",
    "ax.plot(x_std, ekey_average_cycle_times_arr[:-1], label='EdgeKey', marker=\"+\", markersize=10)\n",
    "ax.plot(x, graphchi_kron_times, label='GraphChi', marker=\"|\", markersize=10, color='r')\n",
    "ax.plot(x_std,std_average_cycle_times_arr[:-1], label='Standard', marker=\"x\", markersize=10, color='g')\n",
    "# ax2 = ax.twinx()\n",
    "# ax2.plot(x_std,std_average_cycle_times_arr[:-1], label='Standard', marker=\"x\", markersize=10, color='g')\n",
    "# ax.set_ylabel('Time (secs)',fontsize=14)\n",
    "# ax2.set_ylabel('Time(s) for Std', color='g',fontsize=14)\n",
    "\n",
    "ax.set_ylabel('Time (secs)',fontsize=14)\n",
    "ax.set_xlabel('Datasets',fontsize=14)\n",
    "\n",
    "#plt.legend()\n",
    "ax.legend(loc='upper left', ncol=1)\n",
    "ax2.legend(loc='upper center')\n",
    "plt.savefig('/Users/Puneet89/Documents/rpe_doc/fig/tc_cycles.pdf', bbox_inches='tight')"
   ]
  },
  {
   "cell_type": "code",
   "execution_count": 45,
   "id": "048daa9d",
   "metadata": {},
   "outputs": [
    {
     "name": "stdout",
     "output_type": "stream",
     "text": [
      "[0.1966791680327869, 0.5006384181818181, 1.3628045625, 3.6114019624999996, 9.198143974999999, 24.914707481249998]\n",
      "[0.4461535263157895, 1.32202856, 3.4686437999999997, 9.197570039999999, 24.92611752, 61.70089136]\n",
      "[0.39064435937499997, 1.7059156083333333, 5.0891789375, 259.5138075106383, 601.60518384, 2955.490309590909]\n"
     ]
    },
    {
     "data": {
      "image/png": "[encoded data removed]",
      "text/plain": [
       "<Figure size 436.32x266.4 with 2 Axes>"
      ]
     },
     "metadata": {
      "needs_background": "light"
     },
     "output_type": "display_data"
    }
   ],
   "source": [
    "#Trust Triangle Counting Time\n",
    "\n",
    "x = []\n",
    "for i in range(10,16):\n",
    "    x.append(\"s\"+str(i))\n",
    "\n",
    "print(adj_average_trust_times_arr[:6])\n",
    "print(ekey_average_trust_times_arr[:6])\n",
    "print(std_average_trust_times_arr)\n",
    "\n",
    "# adj_line, = plt.plot(x, adj_average_trust_times_arr[:6], marker=\".\", markersize=10)\n",
    "# adj_line.set_label('AdjList')\n",
    "\n",
    "# ekey_line, = plt.plot(x, ekey_average_trust_times_arr[:6], marker=\".\", markersize=10)\n",
    "# ekey_line.set_label('EdgeKey')\n",
    "\n",
    "# std_line, = plt.plot(x, std_average_trust_times_arr, marker=\".\", markersize=10)\n",
    "# std_line.set_label('Std')\n",
    "\n",
    "fig,ax = plt.subplots(figsize=(6.06, 3.7))\n",
    "ax.plot(x, adj_average_trust_times_arr[:6], label='AdjList', marker=\".\", markersize=10)\n",
    "ax.plot(x, ekey_average_trust_times_arr[:6], label='EdgeKey', marker=\"+\", markersize=10)\n",
    "\n",
    "ax2 = ax.twinx()\n",
    "ax2.plot(x,std_average_trust_times_arr, label='Standard', marker=\"x\", markersize=10, color='g')\n",
    "ax.set_ylabel('Time (secs)',fontsize=14)\n",
    "ax2.set_ylabel('Time(s) for Std', color='g',fontsize=14)\n",
    "\n",
    "#plt.legend()\n",
    "ax.set_xlabel('Datasets',fontsize=14)\n",
    "plt.ylabel('Time (secs)', fontsize=14)\n",
    "ax.legend(loc='upper center', ncol=2)\n",
    "\n",
    "ax2.legend(loc='upper left')\n",
    "plt.savefig('/Users/Puneet89/Documents/rpe_doc/fig/tc_trust.pdf', bbox_inches='tight')"
   ]
  },
  {
   "cell_type": "code",
   "execution_count": null,
   "id": "30e94269",
   "metadata": {},
   "outputs": [],
   "source": []
  }
 ],
 "metadata": {
  "kernelspec": {
   "display_name": "Python 3 (ipykernel)",
   "language": "python",
   "name": "python3"
  },
  "language_info": {
   "codemirror_mode": {
    "name": "ipython",
    "version": 3
   },
   "file_extension": ".py",
   "mimetype": "text/x-python",
   "name": "python",
   "nbconvert_exporter": "python",
   "pygments_lexer": "ipython3",
   "version": "3.9.7"
  }
 },
 "nbformat": 4,
 "nbformat_minor": 5
}
